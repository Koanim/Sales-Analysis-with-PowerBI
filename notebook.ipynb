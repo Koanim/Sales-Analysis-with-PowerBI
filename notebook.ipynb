{
 "cells": [
  {
   "cell_type": "code",
   "execution_count": 5,
   "metadata": {},
   "outputs": [],
   "source": [
    "import pyodbc\n",
    "from dotenv import load_dotenv\n",
    "import os\n",
    "import pandas as pd\n",
    "import numpy as np\n",
    "import matplotlib.pyplot as plt\n",
    "import seaborn as sns\n",
    "import warnings\n",
    "warnings.filterwarnings('ignore')\n",
    "\n",
    "load_dotenv()\n",
    "server = os.getenv('SERVER')\n",
    "database = os.getenv('DATABASE')\n",
    "user = os.getenv('USER')\n",
    "password = os.getenv('PASSWORD')"
   ]
  },
  {
   "cell_type": "code",
   "execution_count": 16,
   "metadata": {},
   "outputs": [],
   "source": [
    "# Create a connection string\n",
    "connection_string = f\"DRIVER={{ODBC Driver 18 for SQL Server}};SERVER={server};DATABASE={database};UID={user};PWD={password};MARS_Connection=yes;MinProtocolVersion=TLSv1.2;\"\n",
    "\n"
   ]
  },
  {
   "cell_type": "code",
   "execution_count": 17,
   "metadata": {},
   "outputs": [],
   "source": [
    "connection = pyodbc.connect(connection_string)\n"
   ]
  },
  {
   "cell_type": "code",
   "execution_count": 18,
   "metadata": {},
   "outputs": [
    {
     "ename": "",
     "evalue": "",
     "output_type": "error",
     "traceback": [
      "\u001b[1;31mThe Kernel crashed while executing code in the current cell or a previous cell. \n",
      "\u001b[1;31mPlease review the code in the cell(s) to identify a possible cause of the failure. \n",
      "\u001b[1;31mClick <a href='https://aka.ms/vscodeJupyterKernelCrash'>here</a> for more info. \n",
      "\u001b[1;31mView Jupyter <a href='command:jupyter.viewOutput'>log</a> for further details."
     ]
    }
   ],
   "source": [
    "\n",
    "query1 = \"SELECT * FROM dbo.Sales_July_2019\"\n",
    "\n",
    "july_df = pd.read_sql(query1, connection)\n",
    "\n",
    "query2 = \"SELECT * FROM dbo.Sales_August_2019\"\n",
    "\n",
    "august_df = pd.read_sql(query2, connection)\n",
    "\n",
    "query3 = \"SELECT * FROM dbo.Sales_September_2019\"\n",
    "\n",
    "september_df = pd.read_sql(query3, connection)\n",
    "\n",
    "query4 = \"SELECT * FROM dbo.Sales_October_2019\"\n",
    "\n",
    "october_df = pd.read_sql(query4, connection)\n",
    "\n",
    "query5 = \"SELECT * FROM dbo.Sales_November_2019\"\n",
    "\n",
    "november_df = pd.read_sql(query5, connection)\n",
    "\n",
    "query6 = \"SELECT * FROM dbo.Sales_December_2019\"\n",
    "\n",
    "december_df = pd.read_sql(query6, connection)\n"
   ]
  }
 ],
 "metadata": {
  "kernelspec": {
   "display_name": "pbi",
   "language": "python",
   "name": "python3"
  },
  "language_info": {
   "codemirror_mode": {
    "name": "ipython",
    "version": 3
   },
   "file_extension": ".py",
   "mimetype": "text/x-python",
   "name": "python",
   "nbconvert_exporter": "python",
   "pygments_lexer": "ipython3",
   "version": "3.12.3"
  }
 },
 "nbformat": 4,
 "nbformat_minor": 2
}
