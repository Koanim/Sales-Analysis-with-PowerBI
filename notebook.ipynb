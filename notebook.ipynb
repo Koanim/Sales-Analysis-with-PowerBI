{
 "cells": [
  {
   "cell_type": "code",
   "execution_count": 1,
   "metadata": {},
   "outputs": [],
   "source": [
    "import pyodbc\n",
    "from dotenv import load_dotenv\n",
    "import os\n",
    "import pandas as pd\n",
    "import numpy as np\n",
    "import matplotlib.pyplot as plt\n",
    "import seaborn as sns\n",
    "import warnings\n",
    "warnings.filterwarnings('ignore')\n",
    "\n",
    "load_dotenv()\n",
    "server = os.getenv('SERVER')\n",
    "database = os.getenv('DATABASE')\n",
    "user = os.getenv('USER')\n",
    "password = os.getenv('PASSWORD')"
   ]
  },
  {
   "cell_type": "code",
   "execution_count": 2,
   "metadata": {},
   "outputs": [],
   "source": [
    "# Create a connection string\n",
    "connection_string = f\"DRIVER={{ODBC Driver 18 for SQL Server}};SERVER={server};DATABASE={database};UID={user};PWD={password};MARS_Connection=yes;MinProtocolVersion=TLSv1.2;\"\n",
    "\n"
   ]
  },
  {
   "cell_type": "code",
   "execution_count": 3,
   "metadata": {},
   "outputs": [],
   "source": [
    "connection = pyodbc.connect(connection_string)\n"
   ]
  },
  {
   "cell_type": "code",
   "execution_count": 4,
   "metadata": {},
   "outputs": [],
   "source": [
    "\n",
    "query1 = \"SELECT * FROM dbo.Sales_July_2019\"\n",
    "\n",
    "july_df = pd.read_sql(query1, connection)\n",
    "\n",
    "query2 = \"SELECT * FROM dbo.Sales_August_2019\"\n",
    "\n",
    "august_df = pd.read_sql(query2, connection)\n",
    "\n",
    "query3 = \"SELECT * FROM dbo.Sales_September_2019\"\n",
    "\n",
    "september_df = pd.read_sql(query3, connection)\n",
    "\n",
    "query4 = \"SELECT * FROM dbo.Sales_October_2019\"\n",
    "\n",
    "october_df = pd.read_sql(query4, connection)\n",
    "\n",
    "query5 = \"SELECT * FROM dbo.Sales_November_2019\"\n",
    "\n",
    "november_df = pd.read_sql(query5, connection)\n",
    "\n",
    "query6 = \"SELECT * FROM dbo.Sales_December_2019\"\n",
    "\n",
    "december_df = pd.read_sql(query6, connection)\n"
   ]
  },
  {
   "cell_type": "code",
   "execution_count": 5,
   "metadata": {},
   "outputs": [
    {
     "data": {
      "text/html": [
       "<div>\n",
       "<style scoped>\n",
       "    .dataframe tbody tr th:only-of-type {\n",
       "        vertical-align: middle;\n",
       "    }\n",
       "\n",
       "    .dataframe tbody tr th {\n",
       "        vertical-align: top;\n",
       "    }\n",
       "\n",
       "    .dataframe thead th {\n",
       "        text-align: right;\n",
       "    }\n",
       "</style>\n",
       "<table border=\"1\" class=\"dataframe\">\n",
       "  <thead>\n",
       "    <tr style=\"text-align: right;\">\n",
       "      <th></th>\n",
       "      <th>Order_ID</th>\n",
       "      <th>Product</th>\n",
       "      <th>Quantity_Ordered</th>\n",
       "      <th>Price_Each</th>\n",
       "      <th>Order_Date</th>\n",
       "      <th>Purchase_Address</th>\n",
       "    </tr>\n",
       "  </thead>\n",
       "  <tbody>\n",
       "    <tr>\n",
       "      <th>0</th>\n",
       "      <td>222910.0</td>\n",
       "      <td>Apple Airpods Headphones</td>\n",
       "      <td>1.0</td>\n",
       "      <td>150.00</td>\n",
       "      <td>2026-07-19 16:51:00</td>\n",
       "      <td>389 South St, Atlanta, GA 30301</td>\n",
       "    </tr>\n",
       "    <tr>\n",
       "      <th>1</th>\n",
       "      <td>222911.0</td>\n",
       "      <td>Flatscreen TV</td>\n",
       "      <td>1.0</td>\n",
       "      <td>300.00</td>\n",
       "      <td>2005-07-19 08:55:00</td>\n",
       "      <td>590 4th St, Seattle, WA 98101</td>\n",
       "    </tr>\n",
       "    <tr>\n",
       "      <th>2</th>\n",
       "      <td>222912.0</td>\n",
       "      <td>AA Batteries (4-pack)</td>\n",
       "      <td>1.0</td>\n",
       "      <td>3.84</td>\n",
       "      <td>2029-07-19 12:41:00</td>\n",
       "      <td>861 Hill St, Atlanta, GA 30301</td>\n",
       "    </tr>\n",
       "    <tr>\n",
       "      <th>3</th>\n",
       "      <td>222913.0</td>\n",
       "      <td>AA Batteries (4-pack)</td>\n",
       "      <td>1.0</td>\n",
       "      <td>3.84</td>\n",
       "      <td>2028-07-19 10:15:00</td>\n",
       "      <td>190 Ridge St, Atlanta, GA 30301</td>\n",
       "    </tr>\n",
       "    <tr>\n",
       "      <th>4</th>\n",
       "      <td>222914.0</td>\n",
       "      <td>AAA Batteries (4-pack)</td>\n",
       "      <td>5.0</td>\n",
       "      <td>2.99</td>\n",
       "      <td>2031-07-19 02:13:00</td>\n",
       "      <td>824 Forest St, Seattle, WA 98101</td>\n",
       "    </tr>\n",
       "  </tbody>\n",
       "</table>\n",
       "</div>"
      ],
      "text/plain": [
       "   Order_ID                   Product  Quantity_Ordered  Price_Each  \\\n",
       "0  222910.0  Apple Airpods Headphones               1.0      150.00   \n",
       "1  222911.0             Flatscreen TV               1.0      300.00   \n",
       "2  222912.0     AA Batteries (4-pack)               1.0        3.84   \n",
       "3  222913.0     AA Batteries (4-pack)               1.0        3.84   \n",
       "4  222914.0    AAA Batteries (4-pack)               5.0        2.99   \n",
       "\n",
       "           Order_Date                  Purchase_Address  \n",
       "0 2026-07-19 16:51:00   389 South St, Atlanta, GA 30301  \n",
       "1 2005-07-19 08:55:00     590 4th St, Seattle, WA 98101  \n",
       "2 2029-07-19 12:41:00    861 Hill St, Atlanta, GA 30301  \n",
       "3 2028-07-19 10:15:00   190 Ridge St, Atlanta, GA 30301  \n",
       "4 2031-07-19 02:13:00  824 Forest St, Seattle, WA 98101  "
      ]
     },
     "execution_count": 5,
     "metadata": {},
     "output_type": "execute_result"
    }
   ],
   "source": [
    "july_df.head()"
   ]
  },
  {
   "cell_type": "code",
   "execution_count": 7,
   "metadata": {},
   "outputs": [],
   "source": [
    "july_df.to_csv('./Data/july_df.csv', index=False)\n",
    "august_df.to_csv('./Data/august_df.csv', index=False)\n",
    "september_df.to_csv('./Data/september_df.csv', index=False)\n",
    "october_df.to_csv('./Data/october_df.csv', index=False)\n",
    "november_df.to_csv('./Data/november_df.csv', index=False)\n",
    "december_df.to_csv('./Data/december_df.csv', index=False)"
   ]
  }
 ],
 "metadata": {
  "kernelspec": {
   "display_name": "pbi",
   "language": "python",
   "name": "python3"
  },
  "language_info": {
   "codemirror_mode": {
    "name": "ipython",
    "version": 3
   },
   "file_extension": ".py",
   "mimetype": "text/x-python",
   "name": "python",
   "nbconvert_exporter": "python",
   "pygments_lexer": "ipython3",
   "version": "3.12.3"
  }
 },
 "nbformat": 4,
 "nbformat_minor": 2
}
